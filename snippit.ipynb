{
 "cells": [
  {
   "cell_type": "code",
   "execution_count": 5,
   "outputs": [
    {
     "name": "stdout",
     "output_type": "stream",
     "text": [
      "Hello World!\n"
     ]
    }
   ],
   "source": [
    "print(\"Hello World!\")"
   ],
   "metadata": {
    "collapsed": false
   }
  },
  {
   "cell_type": "code",
   "execution_count": 7,
   "outputs": [
    {
     "name": "stdout",
     "output_type": "stream",
     "text": [
      "name='Anna' age=20.0 pets=[Pet(name='Bones', species='dog'), Pet(name='Orion', species='cat')]\n"
     ]
    }
   ],
   "source": [
    "from pydantic import BaseModel\n",
    "\n",
    "\n",
    "class PetCls:\n",
    "    def __init__(self, *, name: str, species: str):\n",
    "        self.name = name\n",
    "        self.species = species\n",
    "\n",
    "\n",
    "class PersonCls:\n",
    "    def __init__(self, *, name: str, age: float = None, pets: list[PetCls]):\n",
    "        self.name = name\n",
    "        self.age = age\n",
    "        self.pets = pets\n",
    "\n",
    "\n",
    "class Pet(BaseModel):\n",
    "    name: str\n",
    "    species: str\n",
    "\n",
    "    class Config:\n",
    "        orm_mode = True\n",
    "\n",
    "\n",
    "class Person(BaseModel):\n",
    "    name: str\n",
    "    age: float = None\n",
    "    pets: list[Pet]\n",
    "\n",
    "    class Config:\n",
    "        orm_mode = True\n",
    "\n",
    "\n",
    "bones = PetCls(name='Bones', species='dog')\n",
    "orion = PetCls(name='Orion', species='cat')\n",
    "anna = PersonCls(name='Anna', age=20, pets=[bones, orion])\n",
    "anna_model = Person.from_orm(anna)\n",
    "print(anna_model)\n",
    "#> name='Anna' age=20.0 pets=[Pet(name='Bones', species='dog'),\n",
    "#> Pet(name='Orion', species='cat')]"
   ],
   "metadata": {
    "collapsed": false
   }
  },
  {
   "cell_type": "code",
   "execution_count": null,
   "outputs": [],
   "source": [],
   "metadata": {
    "collapsed": false
   }
  },
  {
   "cell_type": "code",
   "execution_count": 8,
   "outputs": [
    {
     "name": "stdout",
     "output_type": "stream",
     "text": [
      "id=123 name='Jane Doe'\n",
      "5**********\n",
      "id=45 name='Jane Doe' age=25\n",
      "id=666 name='Jane Doe' age=25\n"
     ]
    }
   ],
   "source": [
    "from pydantic import BaseModel\n",
    "\n",
    "\n",
    "\n",
    "class User(BaseModel):\n",
    "    id: int\n",
    "    name: str = 'Jane Doe'\n",
    "\n",
    "\n",
    "class StudentUser(User):\n",
    "    age:int = 25\n",
    "\n",
    "class Printer:\n",
    "    x = 5\n",
    "    def fun(self):\n",
    "        print(str(self.x) + \"*\"*10)\n",
    "\n",
    "class BuffedStudentUser(StudentUser, Printer):\n",
    "    id = 0\n",
    "\n",
    "\n",
    "original_user = User(id='123')\n",
    "print(original_user)\n",
    "\n",
    "aPrinter = Printer()\n",
    "aPrinter.fun()\n",
    "\n",
    "student_user = StudentUser(id=\"45\")\n",
    "print(student_user)\n",
    "\n",
    "a_buffed_student_user = BuffedStudentUser(id=\"666\", salary=1000)\n",
    "print(a_buffed_student_user)\n",
    "\n",
    "# BuffedStudentUser.fun()\n"
   ],
   "metadata": {
    "collapsed": false
   }
  },
  {
   "cell_type": "code",
   "execution_count": 2,
   "outputs": [
    {
     "name": "stdout",
     "output_type": "stream",
     "text": [
      "<__main__.CompanyOrm object at 0x1071c7610>\n",
      "id=123 public_key='foobar' name='Testing' domains=['example.com', 'foobar.com']\n"
     ]
    }
   ],
   "source": [
    "from sqlalchemy import Column, Integer, String\n",
    "from sqlalchemy.dialects.postgresql import ARRAY\n",
    "from sqlalchemy.ext.declarative import declarative_base\n",
    "from pydantic import BaseModel, constr\n",
    "\n",
    "Base = declarative_base()\n",
    "\n",
    "\n",
    "class CompanyOrm(Base):\n",
    "    __tablename__ = 'companies'\n",
    "    id = Column(Integer, primary_key=True, nullable=False)\n",
    "    public_key = Column(String(20), index=True, nullable=False, unique=True)\n",
    "    name = Column(String(63), unique=True)\n",
    "    domains = Column(ARRAY(String(255)))\n",
    "\n",
    "\n",
    "class CompanyModel(BaseModel):\n",
    "    id: int\n",
    "    public_key: constr(max_length=20)\n",
    "    name: constr(max_length=63)\n",
    "    domains: list[constr(max_length=255)]\n",
    "\n",
    "    class Config:\n",
    "        orm_mode = True\n",
    "\n",
    "\n",
    "co_orm = CompanyOrm(\n",
    "    id=123,\n",
    "    public_key='foobar',\n",
    "    name='Testing',\n",
    "    domains=['example.com', 'foobar.com'],\n",
    ")\n",
    "print(co_orm)\n",
    "#> <models_orm_mode_3_9.CompanyOrm object at 0x7fb20cc17790>\n",
    "co_model = CompanyModel.from_orm(co_orm)\n",
    "print(co_model)\n",
    "#> id=123 public_key='foobar' name='Testing' domains=['example.com',\n",
    "#> 'foobar.com']"
   ],
   "metadata": {
    "collapsed": false
   }
  },
  {
   "cell_type": "markdown",
   "source": [],
   "metadata": {
    "collapsed": false
   }
  },
  {
   "cell_type": "code",
   "execution_count": null,
   "outputs": [],
   "source": [],
   "metadata": {
    "collapsed": false
   }
  }
 ],
 "metadata": {
  "kernelspec": {
   "display_name": "Python 3.9.13 ('base')",
   "language": "python",
   "name": "python3"
  },
  "language_info": {
   "codemirror_mode": {
    "name": "ipython",
    "version": 3
   },
   "file_extension": ".py",
   "mimetype": "text/x-python",
   "name": "python",
   "nbconvert_exporter": "python",
   "pygments_lexer": "ipython3",
   "version": "3.9.13"
  },
  "orig_nbformat": 4,
  "vscode": {
   "interpreter": {
    "hash": "5637242735df105300a10f363d5c0d18b4b77d7105ef62addc8c3980e22cd89c"
   }
  }
 },
 "nbformat": 4,
 "nbformat_minor": 2
}
